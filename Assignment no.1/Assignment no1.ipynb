{
 "cells": [
  {
   "cell_type": "code",
   "execution_count": 3,
   "id": "6b842b28",
   "metadata": {},
   "outputs": [
    {
     "name": "stdout",
     "output_type": "stream",
     "text": [
      "Question no.1: Write a Python program to print the following string in specific format? \n",
      "Answer\n",
      "Twinkle, twinkle, little star, \n",
      "\tHow I wonder what you are! \n",
      "\t\tUp above the world so high, \n",
      "\t\tLike a diamond in the sky. \n",
      "Twinkle, twinkle, little star, \n",
      "\tHow I wonder what you are!\n"
     ]
    }
   ],
   "source": [
    "print(\"Question no.1: Write a Python program to print the following string in specific format? \\nAnswer\")\n",
    "print(\"Twinkle, twinkle, little star, \\n\\tHow I wonder what you are! \\n\\t\\tUp above the world so high, \\n\\t\\tLike a diamond in the sky. \\nTwinkle, twinkle, little star, \\n\\tHow I wonder what you are!\")\n"
   ]
  },
  {
   "cell_type": "code",
   "execution_count": 6,
   "id": "dd70e32d",
   "metadata": {},
   "outputs": [
    {
     "name": "stdout",
     "output_type": "stream",
     "text": [
      "Question no.2: Write a Python program to get the Python version you are using? \n",
      "Answer\n",
      "3.9.7\n"
     ]
    }
   ],
   "source": [
    "print(\"Question no.2: Write a Python program to get the Python version you are using? \\nAnswer\")\n",
    "import platform\n",
    "\n",
    "print(platform.python_version())"
   ]
  },
  {
   "cell_type": "code",
   "execution_count": 7,
   "id": "88d9fe63",
   "metadata": {},
   "outputs": [
    {
     "name": "stdout",
     "output_type": "stream",
     "text": [
      "Question no.3: Write a Python program to display the current date and time? \n",
      "Answer\n",
      "Current DATE and TIME : \n",
      "2021-12-31 17:15:54\n"
     ]
    }
   ],
   "source": [
    "print(\"Question no.3: Write a Python program to display the current date and time? \\nAnswer\")\n",
    "import datetime\n",
    "now = datetime.datetime.now()\n",
    "print (\"Current DATE and TIME : \")\n",
    "print (now.strftime(\"%Y-%m-%d %H:%M:%S\"))"
   ]
  },
  {
   "cell_type": "code",
   "execution_count": 8,
   "id": "007f84be",
   "metadata": {},
   "outputs": [
    {
     "name": "stdout",
     "output_type": "stream",
     "text": [
      "Question no.4: Write a Python program to which accepts the radius of a circle from the user and compute the area? \n",
      "Answer\n",
      "Input the radius of the circle : 3\n",
      "The area of the circle with radius 3.0 is: 28.274333882308138\n"
     ]
    }
   ],
   "source": [
    "print(\"Question no.4: Write a Python program to which accepts the radius of a circle from the user and compute the area? \\nAnswer\")\n",
    "from math import pi\n",
    "r = float(input (\"Input the radius of the circle : \"))\n",
    "print (\"The area of the circle with radius \" + str(r) + \" is: \" + str(pi * r**2))"
   ]
  },
  {
   "cell_type": "code",
   "execution_count": 9,
   "id": "0b3e5f86",
   "metadata": {},
   "outputs": [
    {
     "name": "stdout",
     "output_type": "stream",
     "text": [
      "Question no.5: Write a Python program which accepts the user's first and last name and print them in reverse order with a space between them? \n",
      "Answer\n",
      "Input your First Name : Mahmood\n",
      "Input your Last Name : Alam\n",
      "Alam Mahmood\n"
     ]
    }
   ],
   "source": [
    "print(\"Question no.5: Write a Python program which accepts the user's first and last name and print them in reverse order with a space between them? \\nAnswer\")\n",
    "fname = input(\"Input your First Name : \")\n",
    "lname = input(\"Input your Last Name : \")\n",
    "print (\"\" + lname + \" \" + fname)"
   ]
  },
  {
   "cell_type": "code",
   "execution_count": 10,
   "id": "db99bedc",
   "metadata": {},
   "outputs": [
    {
     "name": "stdout",
     "output_type": "stream",
     "text": [
      "Question no.4: Write a Python program to which takes two inputs from user and print them addition? \n",
      "Answer\n",
      "Enter first number: 3\n",
      "Enter second number: 4\n",
      "The sum of 3 and 4 is 7.0\n"
     ]
    }
   ],
   "source": [
    "print(\"Question no.4: Write a Python program to which takes two inputs from user and print them addition? \\nAnswer\")\n",
    "num1 = input('Enter first number: ')\n",
    "num2 = input('Enter second number: ')\n",
    "sum = float(num1) + float(num2)\n",
    "print('The sum of {0} and {1} is {2}'.format(num1, num2, sum))"
   ]
  },
  {
   "cell_type": "code",
   "execution_count": null,
   "id": "f722a1e1",
   "metadata": {},
   "outputs": [],
   "source": []
  }
 ],
 "metadata": {
  "kernelspec": {
   "display_name": "Python 3 (ipykernel)",
   "language": "python",
   "name": "python3"
  },
  "language_info": {
   "codemirror_mode": {
    "name": "ipython",
    "version": 3
   },
   "file_extension": ".py",
   "mimetype": "text/x-python",
   "name": "python",
   "nbconvert_exporter": "python",
   "pygments_lexer": "ipython3",
   "version": "3.9.7"
  }
 },
 "nbformat": 4,
 "nbformat_minor": 5
}
